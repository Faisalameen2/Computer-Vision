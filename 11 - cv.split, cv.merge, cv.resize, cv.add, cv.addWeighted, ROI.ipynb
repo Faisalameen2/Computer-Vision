{
 "cells": [
  {
   "cell_type": "code",
   "execution_count": 45,
   "id": "777494ad",
   "metadata": {},
   "outputs": [],
   "source": [
    "import cv2\n",
    "\n",
    "img = cv2.imread(\"Data/apple.jpg\")\n",
    "img2 = cv2.imread(\"Data/Messi.jpg\")\n",
    "#print(img.shape)\n",
    "#print(img2.shape)\n",
    "#print(img.size)\n",
    "#print(img2.size)\n",
    "#print(img.dtype)\n",
    "#print(img2.dtype)\n",
    "b,g,r = cv2.split(img) #Split the color of the images to blue, green, red in numpy array\n",
    "img = cv2.merge((b,g,r)) #Merge the r, g, and b\n",
    "\n",
    "#ball = img2[93:247, 143:292] #Get the coordinated from previous file code \"#8\"\n",
    "#img2[38:249, 88:295] = ball\n",
    "\n",
    "#There is an error in coordinates, try to find the correct one later\n",
    "\n",
    "img = cv2.resize(img, (512,512))\n",
    "img2 = cv2.resize(img2, (512,512)) #It will be maximized\n",
    "\n",
    "#dst = cv2.add(img2, img)\n",
    "\n",
    "dst = cv2.addWeighted(img, .8, img2, .2, 2) #The formula is: G(x)= (1 – alpha) f0 (x) + alpha * f1(x)\n",
    "                                            #.8 and .2 values or other values must equal 1\n",
    "                                            #100 is \"gama\", means the brightness\n",
    "cv2.imshow(\"image\", dst)\n",
    "cv2.waitKey(0)\n",
    "cv2.destroyAllWindows()"
   ]
  },
  {
   "cell_type": "code",
   "execution_count": 18,
   "id": "1096bb35",
   "metadata": {},
   "outputs": [
    {
     "data": {
      "text/plain": [
       "'C:\\\\Users\\\\faisa\\\\Desktop\\\\Programming\\\\Computer Vision'"
      ]
     },
     "execution_count": 18,
     "metadata": {},
     "output_type": "execute_result"
    }
   ],
   "source": []
  }
 ],
 "metadata": {
  "kernelspec": {
   "display_name": "Python 3 (ipykernel)",
   "language": "python",
   "name": "python3"
  },
  "language_info": {
   "codemirror_mode": {
    "name": "ipython",
    "version": 3
   },
   "file_extension": ".py",
   "mimetype": "text/x-python",
   "name": "python",
   "nbconvert_exporter": "python",
   "pygments_lexer": "ipython3",
   "version": "3.9.7"
  }
 },
 "nbformat": 4,
 "nbformat_minor": 5
}
