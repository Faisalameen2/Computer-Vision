{
 "cells": [
  {
   "cell_type": "code",
   "execution_count": 2,
   "id": "883a16f7",
   "metadata": {},
   "outputs": [],
   "source": [
    "import cv2\n",
    "import numpy as np\n",
    "\n",
    "img = np.zeros((250,500,3), np.uint8)\n",
    "img = cv2.rectangle(img, (200,0), (300,100), (255,255,255),-1)\n",
    "img2 = np.full((250,500,3), 255, dtype=np.uint8)\n",
    "#img and img2 have the same coordinated (250,500,3), why?\n",
    "#because the operation on arrays must have the same dimensions \n",
    "img2 = cv2.rectangle(img2, (0,0), (250,250), (0,0,0), -1)\n",
    "\n",
    "bitAnd = cv2.bitwise_and(img2,img)\n",
    "bitOr = cv2.bitwise_or(img2,img)\n",
    "bitXor = cv2.bitwise_xor(img2,img)\n",
    "bitNot1 = cv2.bitwise_not(img)\n",
    "bitNot2 = cv2.bitwise_not(img2)\n",
    "\n",
    "cv2.imshow(\"img1\", img)\n",
    "cv2.imshow(\"img2\", img2)\n",
    "#cv2.imshow(\"imga\", bitAnd)\n",
    "#cv2.imshow(\"imgo\", bitOr)\n",
    "#cv2.imshow(\"imgx\", bitXor)\n",
    "#cv2.imshow(\"imgn1\", bitNot1)\n",
    "cv2.imshow(\"imgn2\", bitNot2)\n",
    "\n",
    "cv2.waitKey(0)\n",
    "cv2.destroyAllWindows()"
   ]
  },
  {
   "cell_type": "code",
   "execution_count": 3,
   "id": "291d3d23",
   "metadata": {},
   "outputs": [
    {
     "name": "stdout",
     "output_type": "stream",
     "text": [
      "4.5.5\n"
     ]
    }
   ],
   "source": [
    "import cv2\n",
    "print (cv2.__version__)"
   ]
  },
  {
   "cell_type": "code",
   "execution_count": null,
   "id": "3d39404d",
   "metadata": {},
   "outputs": [],
   "source": []
  }
 ],
 "metadata": {
  "kernelspec": {
   "display_name": "Python 3 (ipykernel)",
   "language": "python",
   "name": "python3"
  },
  "language_info": {
   "codemirror_mode": {
    "name": "ipython",
    "version": 3
   },
   "file_extension": ".py",
   "mimetype": "text/x-python",
   "name": "python",
   "nbconvert_exporter": "python",
   "pygments_lexer": "ipython3",
   "version": "3.9.12"
  }
 },
 "nbformat": 4,
 "nbformat_minor": 5
}
