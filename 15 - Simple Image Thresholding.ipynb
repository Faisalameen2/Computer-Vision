{
 "cells": [
  {
   "cell_type": "code",
   "execution_count": 9,
   "id": "7b2e6834",
   "metadata": {},
   "outputs": [],
   "source": [
    "import cv2\n",
    "import numpy as np\n",
    "\n",
    "img = cv2.imread(\"Data/forThreshold.jpg\", 0)\n",
    "#-------------------------------------------- \n",
    "# _ value has True or False, \n",
    "#True means you can do the threshold\n",
    "#False means you cannot do the threshold\n",
    "#55 is threshold value, any thing less than 55 will be same its same value\n",
    "#any thing larger than 55 will be 55\n",
    "_, th1 = cv2.threshold(img, 55, 255, cv2.THRESH_BINARY)            \n",
    "_, th2 = cv2.threshold(img, 200, 255, cv2.THRESH_BINARY_INV)\n",
    "_, th3 = cv2.threshold(img, 127, 255, cv2.THRESH_TRUNC)\n",
    "_, th4 = cv2.threshold(img, 127, 255, cv2.THRESH_TOZERO)\n",
    "_, th5 = cv2.threshold(img, 127, 255, cv2.THRESH_TOZERO_INV)\n",
    "            \n",
    "    \n",
    "    \n",
    "cv2.imshow(\"img\", img)\n",
    "#cv2.imshow(\"th1\", th1)\n",
    "#cv2.imshow(\"th2\", th2)\n",
    "#cv2.imshow(\"th3\", th3)\n",
    "cv2.imshow(\"th4\", th4)\n",
    "cv2.imshow(\"th5\", th5)\n",
    "\n",
    "cv2.waitKey(0)\n",
    "cv2.destroyAllWindows()"
   ]
  },
  {
   "cell_type": "code",
   "execution_count": 18,
   "id": "f1f77a66",
   "metadata": {},
   "outputs": [],
   "source": [
    "#Adaptive threshold\n",
    "\n",
    "import cv2\n",
    "import numpy as np\n",
    "\n",
    "img = cv2.imread(\"Data/sudo game.jpg\",0)\n",
    "_,th1 = cv2.threshold(img, 127, 255, cv2.THRESH_BINARY)\n",
    "\n",
    "#fot the below code, press \"Shift + Tab\" to understand the parameters\n",
    "th2 = cv2.adaptiveThreshold(img, 255, cv2.ADAPTIVE_THRESH_MEAN_C, cv2.THRESH_BINARY,111,2)\n",
    "th3 = cv2.adaptiveThreshold(img, 255, cv2.ADAPTIVE_THRESH_GAUSSIAN_C, cv2.THRESH_BINARY, 111, 2)\n",
    "#cv2.ADAPTIVE_THRESH_GAUSSIAN_C: uses the weighted mean formula\n",
    "#weighted mean: (xi*wi) / wi; try to find formaula from Google\n",
    "\n",
    "cv2.imshow(\"image\", img)\n",
    "cv2.imshow(\"th1\", th1)\n",
    "cv2.imshow(\"th2\", th2)\n",
    "cv2.imshow(\"th3\", th3)\n",
    "\n",
    "cv2.waitKey(0)\n",
    "cv2.destroyAllWindows()"
   ]
  },
  {
   "cell_type": "code",
   "execution_count": null,
   "id": "a04e98aa",
   "metadata": {},
   "outputs": [],
   "source": []
  }
 ],
 "metadata": {
  "kernelspec": {
   "display_name": "Python 3 (ipykernel)",
   "language": "python",
   "name": "python3"
  },
  "language_info": {
   "codemirror_mode": {
    "name": "ipython",
    "version": 3
   },
   "file_extension": ".py",
   "mimetype": "text/x-python",
   "name": "python",
   "nbconvert_exporter": "python",
   "pygments_lexer": "ipython3",
   "version": "3.9.7"
  }
 },
 "nbformat": 4,
 "nbformat_minor": 5
}
