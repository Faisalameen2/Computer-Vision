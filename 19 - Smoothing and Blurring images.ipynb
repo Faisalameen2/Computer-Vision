{
 "cells": [
  {
   "cell_type": "markdown",
   "id": "2937a8cd",
   "metadata": {},
   "source": [
    "# Smoothing or Blurring \n",
    "\n",
    "are used to remove nouse images and it use diverse linear filter because linear filter easy to achive and relatively fast"
   ]
  },
  {
   "cell_type": "markdown",
   "id": "d62376ca",
   "metadata": {},
   "source": [
    "# Blur:\n",
    "Guassian Filter\n",
    "\n",
    "Median Filter\n",
    "\n",
    "Bilateral Filter."
   ]
  },
  {
   "cell_type": "code",
   "execution_count": 30,
   "id": "db3ce160",
   "metadata": {},
   "outputs": [],
   "source": [
    "import cv2\n",
    "import matplotlib.pyplot as plt\n",
    "import numpy as np\n",
    "\n",
    "img = cv2.imread(\"Data/lenna.png\")\n",
    "#img = cv2.resize(img, (500,500))\n",
    "average = cv2.blur(img, (4,4))#Check the below ling for the function\n",
    "#https://docs.opencv.org/4.x/d4/d13/tutorial_py_filtering.html\n",
    "\n",
    "gblur = cv2.GaussianBlur(img, (5,5), 0 ) #Check the below link for the function\n",
    "#https://docs.opencv.org/3.4/dc/dd3/tutorial_gausian_median_blur_bilateral_filter.html\n",
    "\n",
    "median = cv2.medianBlur(img, 7) #used for salt and paper images\n",
    "\n",
    "bilateraFilter = cv2.bilateralFilter(img, 9, 75, 75) #focus only on the corners\n",
    "cv2.imshow(\"img\", img)\n",
    "cv2.imshow(\"average\", average)\n",
    "cv2.imshow(\"gblur\", gblur)\n",
    "cv2.imshow(\"median\", median)\n",
    "cv2.imshow(\"bilaterfilter\", bilateraFilter)\n",
    "cv2.waitKey(0)\n",
    "cv2.destroyAllWindows()"
   ]
  },
  {
   "cell_type": "code",
   "execution_count": null,
   "id": "86852ce0",
   "metadata": {},
   "outputs": [],
   "source": []
  }
 ],
 "metadata": {
  "kernelspec": {
   "display_name": "Python 3 (ipykernel)",
   "language": "python",
   "name": "python3"
  },
  "language_info": {
   "codemirror_mode": {
    "name": "ipython",
    "version": 3
   },
   "file_extension": ".py",
   "mimetype": "text/x-python",
   "name": "python",
   "nbconvert_exporter": "python",
   "pygments_lexer": "ipython3",
   "version": "3.9.7"
  }
 },
 "nbformat": 4,
 "nbformat_minor": 5
}
