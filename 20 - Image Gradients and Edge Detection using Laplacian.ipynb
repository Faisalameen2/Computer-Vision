{
 "cells": [
  {
   "cell_type": "markdown",
   "id": "f37e4fec",
   "metadata": {},
   "source": [
    "# Check the Below link:\n",
    "https://docs.opencv.org/3.4/d5/db5/tutorial_laplace_operator.html"
   ]
  },
  {
   "cell_type": "code",
   "execution_count": 17,
   "id": "2cf01830",
   "metadata": {},
   "outputs": [],
   "source": [
    "import cv2\n",
    "import numpy as np\n",
    "import matplotlib.pyplot as plt\n",
    "\n",
    "img = cv2.imread(\"Data/sudo game.jpg\", 0)\n",
    "lap = cv2.Laplacian(img, cv2.CV_64F, ksize = 3) #we used the filter that ignore \n",
    "                #the value in the middel of the matrixand focuses on the others\n",
    "                #see the matrix in the documentation in the above link to fully \n",
    "                #understand\n",
    "lap2 = np.uint8(np.absolute(lap)) #use this code to focus on the middle and\n",
    "                                #ignore the corner in the matrix\n",
    "\n",
    "#go back to the video #21 if you forget what is Soble means\n",
    "sobel_x = cv2.Sobel(img, cv2.CV_64F, 1,0) #1 for x, 0 for y\n",
    "sobel_y = cv2.Sobel(img, cv2.CV_64F, 0, 1) #0 for x, 1 for y\n",
    "\n",
    "sobel_x2 = np.uint8(np.absolute(sobel_x))\n",
    "sobel_y2 = np.uint8(np.absolute(sobel_y))\n",
    "\n",
    "comine_sobelXY = cv2.bitwise_or(sobel_x2, sobel_y2)\n",
    "    \n",
    "    \n",
    "cv2.imshow(\"img\", img)\n",
    "cv2.imshow(\"lap\", lap)\n",
    "cv2.imshow(\"lap2\", lap2)\n",
    "cv2.imshow(\"sobel_x2\", sobel_x2)\n",
    "cv2.imshow(\"sobel_y2\", sobel_y2)\n",
    "cv2.imshow(\"combination\", comine_sobelXY)\n",
    "cv2.waitKey(0)\n",
    "cv2.destroyAllWindows()"
   ]
  },
  {
   "cell_type": "code",
   "execution_count": null,
   "id": "da46ceff",
   "metadata": {},
   "outputs": [],
   "source": []
  }
 ],
 "metadata": {
  "kernelspec": {
   "display_name": "Python 3 (ipykernel)",
   "language": "python",
   "name": "python3"
  },
  "language_info": {
   "codemirror_mode": {
    "name": "ipython",
    "version": 3
   },
   "file_extension": ".py",
   "mimetype": "text/x-python",
   "name": "python",
   "nbconvert_exporter": "python",
   "pygments_lexer": "ipython3",
   "version": "3.9.7"
  }
 },
 "nbformat": 4,
 "nbformat_minor": 5
}
