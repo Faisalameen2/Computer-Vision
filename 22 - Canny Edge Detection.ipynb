{
 "cells": [
  {
   "cell_type": "markdown",
   "id": "c1eddb3c",
   "metadata": {},
   "source": [
    "# Canny Edge Detection\n",
    "1- Convert image to gray scale using this equation: y = 0.299R + 0.587G + 0.144B\n",
    "\n",
    "2- Remove noise from the image by using gaussian filter\n",
    "\n",
    "3- use Sobel X and Sobel y to get the edges in two directions and combine them by using (Edge_gradient(G) = Gx^2 + Gy^2)\n",
    "\n",
    "4 - Apply Non-Maximum Suppression to make the edges thin -- see video #22 if you forget the idea\n",
    "\n",
    "5- Hystersis Thresholding to connect the stromng edges and ignore others\n",
    "\n",
    "- https://docs.opencv.org/4.x/da/d22/tutorial_py_canny.html \n",
    "documentation of Canny Edge Detection"
   ]
  },
  {
   "cell_type": "code",
   "execution_count": 3,
   "id": "797a7768",
   "metadata": {},
   "outputs": [],
   "source": [
    "import cv2\n",
    "import numpy as np\n",
    "import matplotlib.pyplot as plt\n",
    "\n",
    "img = cv2.imread(\"Data/Messi.jpg\", 0)\n",
    "lap = cv2.Laplacian(img, cv2.CV_64F, ksize = 3) #we used the filter that ignore \n",
    "                #the value in the middel of the matrixand focuses on the others\n",
    "                #see the matrix in the documentation in the above link to fully \n",
    "                #understand\n",
    "lap2 = np.uint8(np.absolute(lap)) #use this code to focus on the middle and\n",
    "                                #ignore the corner in the matrix\n",
    "\n",
    "#go back to the video #21 if you forget what is Soble means\n",
    "sobel_x = cv2.Sobel(img, cv2.CV_64F, 1,0) #1 for x, 0 for y\n",
    "sobel_y = cv2.Sobel(img, cv2.CV_64F, 0, 1) #0 for x, 1 for y\n",
    "\n",
    "sobel_x2 = np.uint8(np.absolute(sobel_x))\n",
    "sobel_y2 = np.uint8(np.absolute(sobel_y))\n",
    "\n",
    "comine_sobelXY = cv2.bitwise_or(sobel_x2, sobel_y2)\n",
    "    \n",
    "canny = cv2.Canny(img, 100, 300)\n",
    "    \n",
    "cv2.imshow(\"img\", img)\n",
    "#cv2.imshow(\"lap\", lap)\n",
    "#cv2.imshow(\"lap2\", lap2)\n",
    "#cv2.imshow(\"sobel_x2\", sobel_x2)\n",
    "#cv2.imshow(\"sobel_y2\", sobel_y2)\n",
    "cv2.imshow(\"combination\", comine_sobelXY)\n",
    "cv2.imshow(\"canny\", canny)\n",
    "cv2.waitKey(0)\n",
    "cv2.destroyAllWindows()"
   ]
  }
 ],
 "metadata": {
  "kernelspec": {
   "display_name": "Python 3 (ipykernel)",
   "language": "python",
   "name": "python3"
  },
  "language_info": {
   "codemirror_mode": {
    "name": "ipython",
    "version": 3
   },
   "file_extension": ".py",
   "mimetype": "text/x-python",
   "name": "python",
   "nbconvert_exporter": "python",
   "pygments_lexer": "ipython3",
   "version": "3.9.7"
  }
 },
 "nbformat": 4,
 "nbformat_minor": 5
}
