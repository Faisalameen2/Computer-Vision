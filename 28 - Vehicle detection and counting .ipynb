{
 "cells": [
  {
   "cell_type": "code",
   "execution_count": 1,
   "id": "b16c790e",
   "metadata": {},
   "outputs": [
    {
     "name": "stdout",
     "output_type": "stream",
     "text": [
      "No. of Cars detected:1\n",
      "No. of Cars detected:2\n",
      "No. of Cars detected:3\n"
     ]
    }
   ],
   "source": [
    "import cv2\n",
    "import numpy as np\n",
    "\n",
    "ww =120\n",
    "hh = 120\n",
    "offset = 6\n",
    "y1 = 550\n",
    "\n",
    "#FPS to video\n",
    "delay = 60\n",
    "\n",
    "detect = []\n",
    "carros = 0 \n",
    "\n",
    "\n",
    "def pega_center(x,y,w,h): #this function to find the center of the rectangele\n",
    "                        #on the vehicle\n",
    "    x1 = int(w/2)\n",
    "    y1 = int(h/2)\n",
    "    cx = x+x1\n",
    "    cy = y+y1\n",
    "    return cx,cy\n",
    "\n",
    "cap = cv2.VideoCapture(\"Data/highway traffic.mp4\")\n",
    "#cap = cv2.resize(cap, (550,550))\n",
    "BGS = cv2.createBackgroundSubtractorMOG2()\n",
    "\n",
    "while True:\n",
    "    ret, frame1 = cap.read()\n",
    "    #print(frame1.shape)\n",
    "    #tempo = float(1/delay)\n",
    "    #sleep(tempo)\n",
    "    \n",
    "    gray = cv2.cvtColor(frame1, cv2.COLOR_BGR2GRAY)\n",
    "    blur = cv2.GaussianBlur(gray, (3,3),5)\n",
    "    img_sub = BGS.apply(blur)\n",
    "    dilate = cv2.dilate(img_sub, np.ones((5,5)))\n",
    "    \n",
    "    contour,_ = cv2.findContours(dilate, cv2.RETR_TREE, cv2.CHAIN_APPROX_SIMPLE)\n",
    "    \n",
    "    cv2.line(frame1, (25,y1), (1200,y1), (176,130,39), 2)\n",
    "    \n",
    "    \n",
    "    for (i,c) in enumerate(contour):\n",
    "        (x,y,w,h) = cv2.boundingRect(c)\n",
    "        \n",
    "        validar_contour = (w>=ww) and (h>=hh) \n",
    "        #هنا مثلا بدي اسوي ديتيكت للسيارات القريبة ويرسم عليها مربع\n",
    "        #اما السيارات البعيدة مايرسم عليها مربع\n",
    "        if not validar_contour:\n",
    "            continue\n",
    "            \n",
    "        cv2.rectangle(frame1, (x,y), (x+w,y+h), (0,255,0), 2)\n",
    "        center = pega_center(x,y,w,h)\n",
    "        detect.append(center)\n",
    "        cv2.circle(frame1, center, 4,(0,0,255), -1)\n",
    "        \n",
    "        for (x,y) in detect:\n",
    "            if (y<(y1+offset)) and (y>(y1-offset)):\n",
    "                carros += 1\n",
    "                cv2.line(frame1, (25,y1), (1200, y1), (0,127,255), 3)\n",
    "                detect.remove((x,y))\n",
    "                print(\"No. of Cars detected:\" + str(carros))\n",
    "                \n",
    "    cv2.putText(frame1, \"Vehicle Count\" + str(carros), (320,70), cv2.FONT_HERSHEY_COMPLEX_SMALL,1,(0,255,0))\n",
    "    cv2.imshow(\"Original Video\", frame1)\n",
    "    cv2.imshow(\"Dilate\", dilate)\n",
    "    cv2.imshow(\"img_sub\", img_sub)\n",
    "    \n",
    "    if cv2.waitKey(2) == 27:\n",
    "        break\n",
    "        \n",
    "cv2.destroyAllWindows()\n",
    "cap.release()"
   ]
  },
  {
   "cell_type": "code",
   "execution_count": null,
   "id": "6aeea221",
   "metadata": {},
   "outputs": [],
   "source": []
  }
 ],
 "metadata": {
  "kernelspec": {
   "display_name": "Python 3 (ipykernel)",
   "language": "python",
   "name": "python3"
  },
  "language_info": {
   "codemirror_mode": {
    "name": "ipython",
    "version": 3
   },
   "file_extension": ".py",
   "mimetype": "text/x-python",
   "name": "python",
   "nbconvert_exporter": "python",
   "pygments_lexer": "ipython3",
   "version": "3.9.12"
  }
 },
 "nbformat": 4,
 "nbformat_minor": 5
}
