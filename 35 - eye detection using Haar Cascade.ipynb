{
 "cells": [
  {
   "cell_type": "code",
   "execution_count": 1,
   "id": "a09ef9ff",
   "metadata": {},
   "outputs": [],
   "source": [
    "import cv2\n",
    "\n",
    "face_cascade = cv2.CascadeClassifier(\"Haar Cascade/haarcascade_frontalface_default.xml\")\n",
    "eye_cascade = cv2.CascadeClassifier(\"Haar Cascade/haarcascade_eye_tree_eyeglasses.xml\")\n",
    "cap = cv2.VideoCapture(0)\n",
    "\n",
    "while cap.isOpened():\n",
    "    _, img = cap.read()\n",
    "    gray = cv2.cvtColor(img, cv2.COLOR_BGR2GRAY)\n",
    "    faces = face_cascade.detectMultiScale(gray, 1.1, 4)\n",
    "    \n",
    "    \n",
    "    for (x,y,w,h) in faces:\n",
    "        cv2.rectangle(img, (x,y), (x+w, y+h), (0,255,0), 3)\n",
    "        cv2.putText(img, \"Face\", (x,y-4), cv2.FONT_HERSHEY_COMPLEX, 1, (255,255,255), 2)\n",
    "        \n",
    "        eyes = eye_cascade.detectMultiScale(gray,2.3,4)\n",
    "        for(ex,ey,ew,eh) in eyes:\n",
    "            cv2.rectangle(img, (ex,ey), (ex+ew, ey+eh), (0,255,0), 5)\n",
    "            cv2.putText(img, \"Eye\", (ex,ey-3), cv2.FONT_HERSHEY_COMPLEX, 0.8, (255,255,255),2)\n",
    "        \n",
    "    cv2.imshow(\"img\", img)\n",
    "    if cv2.waitKey(1) == ord(\"q\"):\n",
    "        cv2.destroyAllWindows()\n",
    "        break\n",
    "\n",
    "        \n",
    "cap.release()\n",
    "cv2.destroyAllWindows()"
   ]
  },
  {
   "cell_type": "code",
   "execution_count": null,
   "id": "e7852678",
   "metadata": {},
   "outputs": [],
   "source": []
  }
 ],
 "metadata": {
  "kernelspec": {
   "display_name": "Python 3",
   "language": "python",
   "name": "python3"
  },
  "language_info": {
   "codemirror_mode": {
    "name": "ipython",
    "version": 3
   },
   "file_extension": ".py",
   "mimetype": "text/x-python",
   "name": "python",
   "nbconvert_exporter": "python",
   "pygments_lexer": "ipython3",
   "version": "3.6.13"
  }
 },
 "nbformat": 4,
 "nbformat_minor": 5
}
