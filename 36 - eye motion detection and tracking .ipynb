{
 "cells": [
  {
   "cell_type": "markdown",
   "id": "249930f5",
   "metadata": {},
   "source": [
    "# The eyes contain:\n",
    "\n",
    "the white area, iris, and the black dot.\n",
    "\n"
   ]
  },
  {
   "cell_type": "code",
   "execution_count": 5,
   "id": "ef334e4c",
   "metadata": {},
   "outputs": [],
   "source": [
    "import cv2\n",
    "\n",
    "cap = cv2.VideoCapture(0) #try to find better video\n",
    "\n",
    "while True:\n",
    "    ret, frame = cap.read()\n",
    "    \n",
    "    if ret is False:\n",
    "        break\n",
    "        \n",
    "    roi = frame[269:795, 537:1416] #roi = region of interest\n",
    "    rows, cols, _ = roi.shape\n",
    "    gray_roi = cv2.cvtColor(roi, cv2.COLOR_BGR2GRAY)\n",
    "    gray_roi = cv2.GaussianBlur(gray_roi, (7,7), 0)\n",
    "    \n",
    "    _, threshold = cv2.threshold(gray_roi, 3, 255, cv2.THRESH_BINARY_INV)\n",
    "    contours, _ = cv2.findContours(threshold, cv2.RETR_TREE, cv2.CHAIN_APPROX_SIMPLE)\n",
    "    contour = sorted(contours, key = lambda x: cv2.contourArea(x), reverse = True)\n",
    "    \n",
    "    for cnt in contour:\n",
    "        (x,y,w,h) = cv2.boundingRect(cnt)\n",
    "        \n",
    "        cv2.rectangle(roi, (x,y), (x+w, y+h), (0,255,0), 2)\n",
    "        cv2.line(roi, (x+int(w/2),0), (x+int(w/2), rows), (0,255,0),2)\n",
    "        cv2.line(roi, (0,y+int(h/2)), (cols, y+int(h/2)), (0,255,0),2)\n",
    "        \n",
    "    cv2.imshow(\"threshold\", threshold)\n",
    "    cv2.imshow(\"gray roi\", gray_roi)\n",
    "    cv2.imshow(\"Roi\", roi)\n",
    "    \n",
    "    key = cv2.waitKey(30)\n",
    "    if key == 27:\n",
    "        break\n",
    "\n",
    "cap.release()\n",
    "cv2.destroyAllWindows()"
   ]
  },
  {
   "cell_type": "code",
   "execution_count": null,
   "id": "fe24a11a",
   "metadata": {},
   "outputs": [],
   "source": []
  }
 ],
 "metadata": {
  "kernelspec": {
   "display_name": "Python 3 (ipykernel)",
   "language": "python",
   "name": "python3"
  },
  "language_info": {
   "codemirror_mode": {
    "name": "ipython",
    "version": 3
   },
   "file_extension": ".py",
   "mimetype": "text/x-python",
   "name": "python",
   "nbconvert_exporter": "python",
   "pygments_lexer": "ipython3",
   "version": "3.9.7"
  }
 },
 "nbformat": 4,
 "nbformat_minor": 5
}
