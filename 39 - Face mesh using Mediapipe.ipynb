{
 "cells": [
  {
   "cell_type": "code",
   "execution_count": 1,
   "id": "cf89aff5",
   "metadata": {},
   "outputs": [],
   "source": [
    "import cv2\n",
    "import mediapipe as mp\n",
    "\n",
    "\n",
    "image = cv2.imread(\"Data/woman.jpg\")\n",
    "\n",
    "mp_face_mesh = mp.solutions.face_mesh.FaceMesh()\n",
    "\n",
    "rgb_image = cv2.cvtColor(image, cv2.COLOR_BGR2RGB)\n",
    "\n",
    "result = mp_face_mesh.process(rgb_image)\n",
    "\n",
    "heitght, width,_ = image.shape\n",
    "\n",
    "for facial_landmarks in result.multi_face_landmarks:\n",
    "    for i in range(0,468):\n",
    "        pt1 = facial_landmarks.landmark[i]\n",
    "        x = int(pt1.x * width)\n",
    "        y = int(pt1.y * heitght)\n",
    "        cv2.circle(image, (x,y), 2,(0,255,0), 2)\n",
    "        \n",
    "cv2.imshow(\"image\", image)\n",
    "cv2.waitKey(0)\n",
    "cv2.destroyAllWindows()"
   ]
  },
  {
   "cell_type": "code",
   "execution_count": 3,
   "id": "10c6c209",
   "metadata": {},
   "outputs": [],
   "source": [
    "import cv2\n",
    "import mediapipe as mp\n",
    "\n",
    "image = cv2.imread(\"Data/woman.jpg\")\n",
    "cap = cv2.VideoCapture(0)\n",
    "mp_face_mesh = mp.solutions.face_mesh.FaceMesh()\n",
    "\n",
    "\n",
    "while True:\n",
    "    ret, image = cap.read()\n",
    "    if ret is not True:\n",
    "        break\n",
    "    heitght, width,_ = image.shape\n",
    "    rgb_image = cv2.cvtColor(image, cv2.COLOR_BGR2RGB)\n",
    "    \n",
    "    result = mp_face_mesh.process(rgb_image)\n",
    "\n",
    "    for facial_landmarks in result.multi_face_landmarks:\n",
    "        for i in range(0,468):\n",
    "            pt1 = facial_landmarks.landmark[i]\n",
    "            x = int(pt1.x * width)\n",
    "            y = int(pt1.y * heitght)\n",
    "            cv2.circle(image, (x,y), 2,(0,255,0), 2)\n",
    "        \n",
    "        cv2.imshow(\"image\", image)\n",
    "        if cv2.waitKey(1) == ord(\"q\"):\n",
    "            cap.release()\n",
    "            cv2.destroyAllWindows()\n",
    "            break\n",
    "\n"
   ]
  },
  {
   "cell_type": "code",
   "execution_count": null,
   "id": "b2bcabc6",
   "metadata": {},
   "outputs": [],
   "source": []
  }
 ],
 "metadata": {
  "kernelspec": {
   "display_name": "Python 3",
   "language": "python",
   "name": "python3"
  },
  "language_info": {
   "codemirror_mode": {
    "name": "ipython",
    "version": 3
   },
   "file_extension": ".py",
   "mimetype": "text/x-python",
   "name": "python",
   "nbconvert_exporter": "python",
   "pygments_lexer": "ipython3",
   "version": "3.6.13"
  }
 },
 "nbformat": 4,
 "nbformat_minor": 5
}
