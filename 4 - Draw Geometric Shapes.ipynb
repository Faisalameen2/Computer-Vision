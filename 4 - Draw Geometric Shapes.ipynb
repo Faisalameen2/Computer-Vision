{
 "cells": [
  {
   "cell_type": "code",
   "execution_count": 2,
   "id": "46e91472",
   "metadata": {},
   "outputs": [
    {
     "ename": "error",
     "evalue": "OpenCV(4.5.4) D:\\a\\opencv-python\\opencv-python\\opencv\\modules\\highgui\\src\\window.cpp:1274: error: (-2:Unspecified error) The function is not implemented. Rebuild the library with Windows, GTK+ 2.x or Cocoa support. If you are on Ubuntu or Debian, install libgtk2.0-dev and pkg-config, then re-run cmake or configure script in function 'cvShowImage'\n",
     "output_type": "error",
     "traceback": [
      "\u001b[1;31m---------------------------------------------------------------------------\u001b[0m",
      "\u001b[1;31merror\u001b[0m                                     Traceback (most recent call last)",
      "Input \u001b[1;32mIn [2]\u001b[0m, in \u001b[0;36m<cell line: 17>\u001b[1;34m()\u001b[0m\n\u001b[0;32m     14\u001b[0m pts \u001b[38;5;241m=\u001b[39m np\u001b[38;5;241m.\u001b[39marray([[\u001b[38;5;241m10\u001b[39m,\u001b[38;5;241m5\u001b[39m],[\u001b[38;5;241m20\u001b[39m,\u001b[38;5;241m30\u001b[39m], [\u001b[38;5;241m70\u001b[39m,\u001b[38;5;241m20\u001b[39m], [\u001b[38;5;241m50\u001b[39m,\u001b[38;5;241m10\u001b[39m]], np\u001b[38;5;241m.\u001b[39mint32)\n\u001b[0;32m     15\u001b[0m img \u001b[38;5;241m=\u001b[39m cv2\u001b[38;5;241m.\u001b[39mpolylines(img, [pts], \u001b[38;5;28;01mTrue\u001b[39;00m, (\u001b[38;5;241m0\u001b[39m,\u001b[38;5;241m255\u001b[39m,\u001b[38;5;241m255\u001b[39m))\n\u001b[1;32m---> 17\u001b[0m \u001b[43mcv2\u001b[49m\u001b[38;5;241;43m.\u001b[39;49m\u001b[43mimshow\u001b[49m\u001b[43m(\u001b[49m\u001b[38;5;124;43m\"\u001b[39;49m\u001b[38;5;124;43mimg\u001b[39;49m\u001b[38;5;124;43m\"\u001b[39;49m\u001b[43m,\u001b[49m\u001b[43m \u001b[49m\u001b[43mimg\u001b[49m\u001b[43m)\u001b[49m\n\u001b[0;32m     18\u001b[0m cv2\u001b[38;5;241m.\u001b[39mwaitKey(\u001b[38;5;241m0\u001b[39m)\n\u001b[0;32m     19\u001b[0m cv2\u001b[38;5;241m.\u001b[39mdestroyAllWindows()\n",
      "\u001b[1;31merror\u001b[0m: OpenCV(4.5.4) D:\\a\\opencv-python\\opencv-python\\opencv\\modules\\highgui\\src\\window.cpp:1274: error: (-2:Unspecified error) The function is not implemented. Rebuild the library with Windows, GTK+ 2.x or Cocoa support. If you are on Ubuntu or Debian, install libgtk2.0-dev and pkg-config, then re-run cmake or configure script in function 'cvShowImage'\n"
     ]
    }
   ],
   "source": [
    "import numpy as np\n",
    "import cv2\n",
    "\n",
    "#img = cv2.imread(r\"C:\\Users\\faisa\\Desktop\\Programming\\Image Processing - University\\lab\\lab 5\\Faisal Ameen Almashharawi - 2180007096 - UPDATED\\Lab-05\\Lab-05-a\\images\\lena_g.PNG\", 1)\n",
    "img = np.zeros([512, 512,3], np.uint8)\n",
    "\n",
    "img = cv2.line(img, (0,0), (256,256), (0, 255, 0), 10)\n",
    "img = cv2.arrowedLine(img, (0,255), (256,256), (0, 255, 0), 10)\n",
    "\n",
    "img = cv2.rectangle(img, (384,0), (510,110), (0, 255, 0), -1)\n",
    "img = cv2.circle(img, (225,63),63 , (0, 255, 0), 10)\n",
    "\n",
    "img = cv2.putText(img, \"Hello World\", (10,100), cv2.FONT_HERSHEY_SIMPLEX, 4, (0,255,255), 10)\n",
    "pts = np.array([[10,5],[20,30], [70,20], [50,10]], np.int32)\n",
    "img = cv2.polylines(img, [pts], True, (0,255,255))\n",
    "\n",
    "cv2.imshow(\"img\", img)\n",
    "cv2.waitKey(0)\n",
    "cv2.destroyAllWindows() "
   ]
  },
  {
   "cell_type": "code",
   "execution_count": null,
   "id": "5d350d99",
   "metadata": {},
   "outputs": [],
   "source": []
  }
 ],
 "metadata": {
  "kernelspec": {
   "display_name": "Python 3 (ipykernel)",
   "language": "python",
   "name": "python3"
  },
  "language_info": {
   "codemirror_mode": {
    "name": "ipython",
    "version": 3
   },
   "file_extension": ".py",
   "mimetype": "text/x-python",
   "name": "python",
   "nbconvert_exporter": "python",
   "pygments_lexer": "ipython3",
   "version": "3.9.7"
  }
 },
 "nbformat": 4,
 "nbformat_minor": 5
}
