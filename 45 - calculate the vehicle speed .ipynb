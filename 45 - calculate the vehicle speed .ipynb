{
 "cells": [
  {
   "cell_type": "markdown",
   "id": "79a4fbc3",
   "metadata": {},
   "source": [
    "# This Code has Many Bugs, you have to modify it later. "
   ]
  },
  {
   "cell_type": "code",
   "execution_count": 72,
   "id": "718f586e",
   "metadata": {},
   "outputs": [],
   "source": [
    "import cv2\n",
    "import time\n",
    "\n",
    "#line A:\n",
    "ax1 = 200 \n",
    "ay = 500 \n",
    "ax2 = 580\n",
    "#ax1 and ay starting from the point (0,0) in the image going to (200,500)\n",
    "#then dropping other line from (200,500) to (200,580)\n",
    "\n",
    "#line B\n",
    "bx1 = 400\n",
    "by = 380\n",
    "bx2 = 600\n",
    "#bx1 and by starting from point(0,0) in the image going to (15,125)\n",
    "#then dropping other line from (15,125) to (15,255)\n",
    "\n",
    "def Calc_speed(time):\n",
    "    try:\n",
    "        speed = (9.144/100)/(time/3600)\n",
    "        return speed\n",
    "    except ZeroDivisionError:\n",
    "        print(\"Can not devide by zero\")\n",
    "    \n",
    "i = 1 #counter will be increased in the below code\n",
    "start_time = time.time()\n",
    "cap = cv2.VideoCapture(\"Data/highway traffic.mp4\")\n",
    "\n",
    "while True:\n",
    "    ret, img = cap.read()\n",
    "    if (type(img) == type(None)): #or if ret == False\n",
    "        break                         #break\n",
    "    \n",
    "    cascade_src = cv2.CascadeClassifier(\"Haar Cascade/cars1.xml\")\n",
    "    blurred = cv2.blur(img, ksize=(15,15))\n",
    "    gray = cv2.cvtColor(blurred, cv2.COLOR_BGR2GRAY)\n",
    "    cars = cascade_src.detectMultiScale(gray,1.1,2)\n",
    "    \n",
    "    #line a #i know road has got\n",
    "    cv2.line(img, (ax1,ay), (ax2,ay), (255,0,0),2)\n",
    "    \n",
    "    #line b \n",
    "    cv2.line(img, (bx1,by), (bx2, by), (255,0,0),2)\n",
    "    \n",
    "    for (x,y,w,h) in cars:\n",
    "        cv2.rectangle(img, (x,y),(x+10+w, y+h), (0,0,255),2)\n",
    "        cv2.circle(img, (int((x+w)/2), int((y+h)/2)),1,(0,255,0),-1)\n",
    "        \n",
    "        while int(ay) == int((y+ y+h)/2):\n",
    "            cv2.line(img, (ax1,ay), (ax2,ay), (0,255,0),2)\n",
    "            start_time = time.time()\n",
    "            break\n",
    "            \n",
    "        while int(ay) <= int((y+y+h)/2): #ay = 90\n",
    "            if int(by) <= int((y+y+h)/2) & int(by+10) >= int((y+y+h)/2):\n",
    "                cv2.line(img,(bx1,by), (bx2,by),(0,255,0),2)\n",
    "                Speed = Calc_speed(time.time() - start_time)\n",
    "                print(\"Car Number\" + str(i) + \"Speed:\" + str(Speed) + \"KM/H\")\n",
    "                i = i+1\n",
    "                break\n",
    "            else:\n",
    "                cv2.putText(img, \"Calculating\", (100,200), cv2.FONT_HERSHEY_COMPLEX,2,(0,255,0),2)\n",
    "                break\n",
    "        \n",
    "    cv2.imshow(\"Video\", img)\n",
    "    if cv2.waitKey(33) == 27:\n",
    "        break\n",
    "cap.release()\n",
    "cv2.destroyAllWindows()"
   ]
  },
  {
   "cell_type": "code",
   "execution_count": null,
   "id": "85bb5691",
   "metadata": {},
   "outputs": [],
   "source": []
  }
 ],
 "metadata": {
  "kernelspec": {
   "display_name": "Python 3 (ipykernel)",
   "language": "python",
   "name": "python3"
  },
  "language_info": {
   "codemirror_mode": {
    "name": "ipython",
    "version": 3
   },
   "file_extension": ".py",
   "mimetype": "text/x-python",
   "name": "python",
   "nbconvert_exporter": "python",
   "pygments_lexer": "ipython3",
   "version": "3.9.12"
  }
 },
 "nbformat": 4,
 "nbformat_minor": 5
}
