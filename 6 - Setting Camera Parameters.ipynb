{
 "cells": [
  {
   "cell_type": "code",
   "execution_count": 8,
   "id": "11456f7a",
   "metadata": {},
   "outputs": [
    {
     "name": "stdout",
     "output_type": "stream",
     "text": [
      "True\n"
     ]
    }
   ],
   "source": [
    "import cv2\n",
    "\n",
    "cap = cv2.VideoCapture(0)\n",
    "cap.set(10,720) #3: best default value, 720: Height\n",
    "cap.set(10,720) #4: best default value, 720: Width\n",
    "\n",
    "#print(cap.get(3))\n",
    "#print(cap.get(4))\n",
    "\n",
    "print(cap.isOpened()) #True or False\n",
    "while(cap.isOpened()): #OR: while(True)\n",
    "    ret, frame = cap.read()\n",
    "    if ret == True:\n",
    "        cv2.imshow(\"video\", frame)\n",
    "        \n",
    "        if cv2.waitKey(1) & 0xFF == ord(\"q\"):\n",
    "            break\n",
    "    else:\n",
    "        break\n",
    "\n",
    "cap.release()\n",
    "cv2.destroyAllWindows()"
   ]
  },
  {
   "cell_type": "code",
   "execution_count": 7,
   "id": "92b44b07",
   "metadata": {},
   "outputs": [
    {
     "name": "stdout",
     "output_type": "stream",
     "text": [
      "True\n"
     ]
    }
   ],
   "source": [
    "#Show Date and Time on Videos\n",
    "\n",
    "import cv2\n",
    "import datetime\n",
    "\n",
    "cap = cv2.VideoCapture(0)\n",
    "cap.set(10,720) #720: Height\n",
    "cap.set(10,720) #720: Width\n",
    "\n",
    "#print(cap.get(3))\n",
    "#print(cap.get(4))\n",
    "\n",
    "print(cap.isOpened()) #True or False\n",
    "while(cap.isOpened()): #OR: while(True)\n",
    "    ret, frame = cap.read()\n",
    "    if ret == True:\n",
    "        font = cv2.FONT_HERSHEY_SIMPLEX\n",
    "        text = \"Width: \" + str(cap.get(3)) + \" ,Height: \" + str(cap.get(4))\n",
    "        date = str(datetime.datetime.now())\n",
    "        frame = cv2.putText(frame, text, (10,50), font, 1, (0,255,255), 2)\n",
    "        frame = cv2.putText(frame, date, (10,100), font, 1, (0,255,255), 2)\n",
    "        \n",
    "        cv2.imshow(\"Video\", frame)\n",
    "        \n",
    "        if cv2.waitKey(1) & 0xFF == ord(\"q\"):\n",
    "            break\n",
    "            \n",
    "    else: break\n",
    "        \n",
    "cap.release()\n",
    "cv2.destroyAllWindows()"
   ]
  }
 ],
 "metadata": {
  "kernelspec": {
   "display_name": "Python 3 (ipykernel)",
   "language": "python",
   "name": "python3"
  },
  "language_info": {
   "codemirror_mode": {
    "name": "ipython",
    "version": 3
   },
   "file_extension": ".py",
   "mimetype": "text/x-python",
   "name": "python",
   "nbconvert_exporter": "python",
   "pygments_lexer": "ipython3",
   "version": "3.9.7"
  }
 },
 "nbformat": 4,
 "nbformat_minor": 5
}
