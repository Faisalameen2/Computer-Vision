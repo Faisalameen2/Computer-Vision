{
 "cells": [
  {
   "cell_type": "code",
   "execution_count": 2,
   "id": "97858ca0",
   "metadata": {},
   "outputs": [
    {
     "name": "stdout",
     "output_type": "stream",
     "text": [
      "['EVENT_FLAG_ALTKEY', 'EVENT_FLAG_CTRLKEY', 'EVENT_FLAG_LBUTTON', 'EVENT_FLAG_MBUTTON', 'EVENT_FLAG_RBUTTON', 'EVENT_FLAG_SHIFTKEY', 'EVENT_LBUTTONDBLCLK', 'EVENT_LBUTTONDOWN', 'EVENT_LBUTTONUP', 'EVENT_MBUTTONDBLCLK', 'EVENT_MBUTTONDOWN', 'EVENT_MBUTTONUP', 'EVENT_MOUSEHWHEEL', 'EVENT_MOUSEMOVE', 'EVENT_MOUSEWHEEL', 'EVENT_RBUTTONDBLCLK', 'EVENT_RBUTTONDOWN', 'EVENT_RBUTTONUP']\n"
     ]
    }
   ],
   "source": [
    "\n",
    "import cv2\n",
    "import numpy as np\n",
    "\n",
    "events = [i for i in dir(cv2) if \"EVENT\" in i] #Search for all functions contain\n",
    "                                                #EVENT word, and store it in \"i\"\n",
    "    \n",
    "print(events) #We will use \"EVENT_LBUTTONDOWN\" + \"EVENT_RBUTTONDOWN\"\n"
   ]
  },
  {
   "cell_type": "code",
   "execution_count": 14,
   "id": "3d750aaa",
   "metadata": {},
   "outputs": [
    {
     "name": "stdout",
     "output_type": "stream",
     "text": [
      "93 ,  247\n",
      "143 ,  292\n",
      "38 ,  248\n",
      "88 ,  295\n"
     ]
    }
   ],
   "source": [
    "#you must convert int to str to be able shown in the image or video, by using (str())\n",
    "\n",
    "def click_event(event, x, y, flags, param):\n",
    "    if event == cv2.EVENT_LBUTTONDOWN:\n",
    "        print(x,\", \", y)\n",
    "        font = cv2.FONT_HERSHEY_SIMPLEX\n",
    "        strXY = str(x) + \", \" + str(y)\n",
    "        cv2.putText(img, strXY, (x,y), font, .5, (0,255,255), 2)\n",
    "        cv2.imshow(\"image\", img)\n",
    "        \n",
    "    if event == cv2.EVENT_RBUTTONDOWN: #always (0 for blue, 1 for green, 2 for red)\n",
    "        blue = img[y,x,0]\n",
    "        green = img[y,x,1]\n",
    "        red = img[y,x,2]\n",
    "        \n",
    "        font = cv2.FONT_HERSHEY_SIMPLEX\n",
    "        strBGR = str(blue) + \", \" + str(green) + \", \" + str(red)\n",
    "        cv2.putText(img, strBGR, (x,y), font, .5, (0,255,255), 2)\n",
    "        cv2.imshow(\"image\", img)\n",
    "        \n",
    "img = cv2.imread(\"Data/messi.jpg\")\n",
    "cv2.imshow(\"image\", img)\n",
    "\n",
    "cv2.setMouseCallback(\"image\", click_event) #No need for parameter in click event\n",
    "                                #the parameter will be passed from the mouse on the image\n",
    "                                #if you set number, it will not changed and no benifit from the whole code.\n",
    "\n",
    "cv2.waitKey(0)\n",
    "cv2.destroyAllWindows()"
   ]
  },
  {
   "cell_type": "code",
   "execution_count": 10,
   "id": "a80de6ac",
   "metadata": {},
   "outputs": [],
   "source": [
    "#Draw line on images using mouse events\n",
    "\n",
    "import cv2\n",
    "import numpy as np\n",
    "\n",
    "def click_event(event, x, y, flags, param):\n",
    "    if event == cv2.EVENT_LBUTTONDOWN:\n",
    "        cv2.circle(img, (x,y), 3, (255,255,0), -1)\n",
    "        points.append((x,y))\n",
    "        if len(points)>=2:\n",
    "            cv2.line(img, points[-1], points[-2], (0,255,255))\n",
    "        cv2.imshow(\"image\", img)\n",
    "    if event == cv2.EVENT_RBUTTONDOWN:\n",
    "        cv2.circle(img, (x,y), 3, (255,255,0), -1)\n",
    "        points.append((x,y))\n",
    "        if len(points)>=2:\n",
    "            cv2.line(img, points[-1], points[-2], (0,255,0))\n",
    "        cv2.imshow(\"image\", img)\n",
    "\n",
    "\n",
    "img = np.zeros((512,512, 3), np.uint8)\n",
    "#OR\n",
    "#img = cv2.imread(r\"C:\\Users\\faisa\\Desktop\\Screenshot 2022-03-02 105021.png\")\n",
    "cv2.imshow(\"image\", img)\n",
    "points = []\n",
    "\n",
    "cv2.setMouseCallback(\"image\", click_event)\n",
    "\n",
    "cv2.waitKey(0)\n",
    "cv2.destroyAllWindows()"
   ]
  },
  {
   "cell_type": "code",
   "execution_count": 8,
   "id": "fc548a53",
   "metadata": {},
   "outputs": [],
   "source": [
    "#New Idea, run the code to understand the idea\n",
    "\n",
    "import cv2\n",
    "import numpy as np\n",
    "\n",
    "def click_event(event, x, y, flags, param):\n",
    "    if event == cv2.EVENT_LBUTTONDOWN:\n",
    "        \n",
    "        blue = img[y,x,0]\n",
    "        green = img[y,x,1]\n",
    "        red = img[y,x,2]\n",
    "        \n",
    "        colorOfImage = np.zeros((512,512,3), dtype=np.uint8)\n",
    "        colorOfImage[:] = [blue,green,red]\n",
    "        \n",
    "        cv2.imshow(\"new image\", colorOfImage)\n",
    "        \n",
    "img = np.zeros((512,512,3), np.uint8)\n",
    "img = cv2.imread(\"Data/messi.jpg\")\n",
    "cv2.imshow(\"image\", img)\n",
    "\n",
    "cv2.setMouseCallback(\"image\", click_event)\n",
    "\n",
    "cv2.waitKey(0)\n",
    "cv2.destroyAllWindows()"
   ]
  },
  {
   "cell_type": "code",
   "execution_count": null,
   "id": "e3a808ac",
   "metadata": {},
   "outputs": [],
   "source": []
  }
 ],
 "metadata": {
  "kernelspec": {
   "display_name": "Python 3 (ipykernel)",
   "language": "python",
   "name": "python3"
  },
  "language_info": {
   "codemirror_mode": {
    "name": "ipython",
    "version": 3
   },
   "file_extension": ".py",
   "mimetype": "text/x-python",
   "name": "python",
   "nbconvert_exporter": "python",
   "pygments_lexer": "ipython3",
   "version": "3.9.7"
  }
 },
 "nbformat": 4,
 "nbformat_minor": 5
}
